{
  "cells": [
    {
      "cell_type": "code",
      "execution_count": 1,
      "metadata": {
        "colab": {
          "base_uri": "https://localhost:8080/",
          "height": 3057
        },
        "colab_type": "code",
        "id": "T3ywJhRBMGvY",
        "outputId": "fdc1e620-4be1-4b38-f525-a075971a2572"
      },
      "outputs": [
        {
          "name": "stdout",
          "output_type": "stream",
          "text": [
            "Requirement already satisfied: graphviz==0.10 in c:\\python311\\lib\\site-packages (0.10)\n"
          ]
        },
        {
          "name": "stderr",
          "output_type": "stream",
          "text": [
            "\n",
            "[notice] A new release of pip is available: 23.3.1 -> 24.0\n",
            "[notice] To update, run: python.exe -m pip install --upgrade pip\n",
            "'apt-get' n�o � reconhecido como um comando interno\n",
            "ou externo, um programa oper�vel ou um arquivo em lotes.\n"
          ]
        }
      ],
      "source": [
        "!pip install graphviz==0.10\n",
        "!apt-get install graphviz"
      ]
    },
    {
      "cell_type": "code",
      "execution_count": 2,
      "metadata": {
        "colab": {
          "base_uri": "https://localhost:8080/",
          "height": 198
        },
        "colab_type": "code",
        "id": "y7ik04NlDZMA",
        "outputId": "73c13868-60e4-4a25-9338-02f324cabb18"
      },
      "outputs": [
        {
          "data": {
            "text/html": [
              "<div>\n",
              "<style scoped>\n",
              "    .dataframe tbody tr th:only-of-type {\n",
              "        vertical-align: middle;\n",
              "    }\n",
              "\n",
              "    .dataframe tbody tr th {\n",
              "        vertical-align: top;\n",
              "    }\n",
              "\n",
              "    .dataframe thead th {\n",
              "        text-align: right;\n",
              "    }\n",
              "</style>\n",
              "<table border=\"1\" class=\"dataframe\">\n",
              "  <thead>\n",
              "    <tr style=\"text-align: right;\">\n",
              "      <th></th>\n",
              "      <th>Unnamed: 0</th>\n",
              "      <th>mileage_per_year</th>\n",
              "      <th>model_year</th>\n",
              "      <th>price</th>\n",
              "      <th>sold</th>\n",
              "    </tr>\n",
              "  </thead>\n",
              "  <tbody>\n",
              "    <tr>\n",
              "      <th>0</th>\n",
              "      <td>0</td>\n",
              "      <td>21801</td>\n",
              "      <td>2000</td>\n",
              "      <td>30941.02</td>\n",
              "      <td>yes</td>\n",
              "    </tr>\n",
              "    <tr>\n",
              "      <th>1</th>\n",
              "      <td>1</td>\n",
              "      <td>7843</td>\n",
              "      <td>1998</td>\n",
              "      <td>40557.96</td>\n",
              "      <td>yes</td>\n",
              "    </tr>\n",
              "    <tr>\n",
              "      <th>2</th>\n",
              "      <td>2</td>\n",
              "      <td>7109</td>\n",
              "      <td>2006</td>\n",
              "      <td>89627.50</td>\n",
              "      <td>no</td>\n",
              "    </tr>\n",
              "    <tr>\n",
              "      <th>3</th>\n",
              "      <td>3</td>\n",
              "      <td>26823</td>\n",
              "      <td>2015</td>\n",
              "      <td>95276.14</td>\n",
              "      <td>no</td>\n",
              "    </tr>\n",
              "    <tr>\n",
              "      <th>4</th>\n",
              "      <td>4</td>\n",
              "      <td>7935</td>\n",
              "      <td>2014</td>\n",
              "      <td>117384.68</td>\n",
              "      <td>yes</td>\n",
              "    </tr>\n",
              "  </tbody>\n",
              "</table>\n",
              "</div>"
            ],
            "text/plain": [
              "   Unnamed: 0  mileage_per_year  model_year      price sold\n",
              "0           0             21801        2000   30941.02  yes\n",
              "1           1              7843        1998   40557.96  yes\n",
              "2           2              7109        2006   89627.50   no\n",
              "3           3             26823        2015   95276.14   no\n",
              "4           4              7935        2014  117384.68  yes"
            ]
          },
          "execution_count": 2,
          "metadata": {},
          "output_type": "execute_result"
        }
      ],
      "source": [
        "import pandas as pd\n",
        "\n",
        "uri = \"https://gist.githubusercontent.com/guilhermesilveira/4d1d4a16ccbf6ea4e0a64a38a24ec884/raw/afd05cb0c796d18f3f5a6537053ded308ba94bf7/car-prices.csv\"\n",
        "dados = pd.read_csv(uri)\n",
        "dados.head()"
      ]
    },
    {
      "cell_type": "code",
      "execution_count": 3,
      "metadata": {
        "colab": {
          "base_uri": "https://localhost:8080/",
          "height": 198
        },
        "colab_type": "code",
        "id": "FqFrPmgJDhvM",
        "outputId": "46b16944-2a4a-4b53-b970-5a96a9b7d867"
      },
      "outputs": [
        {
          "data": {
            "text/html": [
              "<div>\n",
              "<style scoped>\n",
              "    .dataframe tbody tr th:only-of-type {\n",
              "        vertical-align: middle;\n",
              "    }\n",
              "\n",
              "    .dataframe tbody tr th {\n",
              "        vertical-align: top;\n",
              "    }\n",
              "\n",
              "    .dataframe thead th {\n",
              "        text-align: right;\n",
              "    }\n",
              "</style>\n",
              "<table border=\"1\" class=\"dataframe\">\n",
              "  <thead>\n",
              "    <tr style=\"text-align: right;\">\n",
              "      <th></th>\n",
              "      <th>Unnamed: 0</th>\n",
              "      <th>milhas_por_ano</th>\n",
              "      <th>ano_do_modelo</th>\n",
              "      <th>preco</th>\n",
              "      <th>vendido</th>\n",
              "    </tr>\n",
              "  </thead>\n",
              "  <tbody>\n",
              "    <tr>\n",
              "      <th>0</th>\n",
              "      <td>0</td>\n",
              "      <td>21801</td>\n",
              "      <td>2000</td>\n",
              "      <td>30941.02</td>\n",
              "      <td>yes</td>\n",
              "    </tr>\n",
              "    <tr>\n",
              "      <th>1</th>\n",
              "      <td>1</td>\n",
              "      <td>7843</td>\n",
              "      <td>1998</td>\n",
              "      <td>40557.96</td>\n",
              "      <td>yes</td>\n",
              "    </tr>\n",
              "    <tr>\n",
              "      <th>2</th>\n",
              "      <td>2</td>\n",
              "      <td>7109</td>\n",
              "      <td>2006</td>\n",
              "      <td>89627.50</td>\n",
              "      <td>no</td>\n",
              "    </tr>\n",
              "    <tr>\n",
              "      <th>3</th>\n",
              "      <td>3</td>\n",
              "      <td>26823</td>\n",
              "      <td>2015</td>\n",
              "      <td>95276.14</td>\n",
              "      <td>no</td>\n",
              "    </tr>\n",
              "    <tr>\n",
              "      <th>4</th>\n",
              "      <td>4</td>\n",
              "      <td>7935</td>\n",
              "      <td>2014</td>\n",
              "      <td>117384.68</td>\n",
              "      <td>yes</td>\n",
              "    </tr>\n",
              "  </tbody>\n",
              "</table>\n",
              "</div>"
            ],
            "text/plain": [
              "   Unnamed: 0  milhas_por_ano  ano_do_modelo      preco vendido\n",
              "0           0           21801           2000   30941.02     yes\n",
              "1           1            7843           1998   40557.96     yes\n",
              "2           2            7109           2006   89627.50      no\n",
              "3           3           26823           2015   95276.14      no\n",
              "4           4            7935           2014  117384.68     yes"
            ]
          },
          "execution_count": 3,
          "metadata": {},
          "output_type": "execute_result"
        }
      ],
      "source": [
        "a_renomear = {\n",
        "    'mileage_per_year' : 'milhas_por_ano',\n",
        "    'model_year' : 'ano_do_modelo',\n",
        "    'price' : 'preco',\n",
        "    'sold' : 'vendido'\n",
        "}\n",
        "dados = dados.rename(columns=a_renomear)\n",
        "dados.head()"
      ]
    },
    {
      "cell_type": "code",
      "execution_count": 4,
      "metadata": {
        "colab": {
          "base_uri": "https://localhost:8080/",
          "height": 198
        },
        "colab_type": "code",
        "id": "J31fUGbVEKpW",
        "outputId": "ad0a651f-320a-4f5e-8e2c-706bf6937fbb"
      },
      "outputs": [
        {
          "data": {
            "text/html": [
              "<div>\n",
              "<style scoped>\n",
              "    .dataframe tbody tr th:only-of-type {\n",
              "        vertical-align: middle;\n",
              "    }\n",
              "\n",
              "    .dataframe tbody tr th {\n",
              "        vertical-align: top;\n",
              "    }\n",
              "\n",
              "    .dataframe thead th {\n",
              "        text-align: right;\n",
              "    }\n",
              "</style>\n",
              "<table border=\"1\" class=\"dataframe\">\n",
              "  <thead>\n",
              "    <tr style=\"text-align: right;\">\n",
              "      <th></th>\n",
              "      <th>Unnamed: 0</th>\n",
              "      <th>milhas_por_ano</th>\n",
              "      <th>ano_do_modelo</th>\n",
              "      <th>preco</th>\n",
              "      <th>vendido</th>\n",
              "    </tr>\n",
              "  </thead>\n",
              "  <tbody>\n",
              "    <tr>\n",
              "      <th>0</th>\n",
              "      <td>0</td>\n",
              "      <td>21801</td>\n",
              "      <td>2000</td>\n",
              "      <td>30941.02</td>\n",
              "      <td>1</td>\n",
              "    </tr>\n",
              "    <tr>\n",
              "      <th>1</th>\n",
              "      <td>1</td>\n",
              "      <td>7843</td>\n",
              "      <td>1998</td>\n",
              "      <td>40557.96</td>\n",
              "      <td>1</td>\n",
              "    </tr>\n",
              "    <tr>\n",
              "      <th>2</th>\n",
              "      <td>2</td>\n",
              "      <td>7109</td>\n",
              "      <td>2006</td>\n",
              "      <td>89627.50</td>\n",
              "      <td>0</td>\n",
              "    </tr>\n",
              "    <tr>\n",
              "      <th>3</th>\n",
              "      <td>3</td>\n",
              "      <td>26823</td>\n",
              "      <td>2015</td>\n",
              "      <td>95276.14</td>\n",
              "      <td>0</td>\n",
              "    </tr>\n",
              "    <tr>\n",
              "      <th>4</th>\n",
              "      <td>4</td>\n",
              "      <td>7935</td>\n",
              "      <td>2014</td>\n",
              "      <td>117384.68</td>\n",
              "      <td>1</td>\n",
              "    </tr>\n",
              "  </tbody>\n",
              "</table>\n",
              "</div>"
            ],
            "text/plain": [
              "   Unnamed: 0  milhas_por_ano  ano_do_modelo      preco  vendido\n",
              "0           0           21801           2000   30941.02        1\n",
              "1           1            7843           1998   40557.96        1\n",
              "2           2            7109           2006   89627.50        0\n",
              "3           3           26823           2015   95276.14        0\n",
              "4           4            7935           2014  117384.68        1"
            ]
          },
          "execution_count": 4,
          "metadata": {},
          "output_type": "execute_result"
        }
      ],
      "source": [
        "a_trocar = {\n",
        "    'no' : 0,\n",
        "    'yes' : 1\n",
        "}\n",
        "dados.vendido = dados.vendido.map(a_trocar)\n",
        "dados.head()"
      ]
    },
    {
      "cell_type": "code",
      "execution_count": 5,
      "metadata": {
        "colab": {
          "base_uri": "https://localhost:8080/",
          "height": 198
        },
        "colab_type": "code",
        "id": "tZFog8O9EXYD",
        "outputId": "5792a2f8-f777-4237-e813-697f60309951"
      },
      "outputs": [
        {
          "data": {
            "text/html": [
              "<div>\n",
              "<style scoped>\n",
              "    .dataframe tbody tr th:only-of-type {\n",
              "        vertical-align: middle;\n",
              "    }\n",
              "\n",
              "    .dataframe tbody tr th {\n",
              "        vertical-align: top;\n",
              "    }\n",
              "\n",
              "    .dataframe thead th {\n",
              "        text-align: right;\n",
              "    }\n",
              "</style>\n",
              "<table border=\"1\" class=\"dataframe\">\n",
              "  <thead>\n",
              "    <tr style=\"text-align: right;\">\n",
              "      <th></th>\n",
              "      <th>Unnamed: 0</th>\n",
              "      <th>milhas_por_ano</th>\n",
              "      <th>ano_do_modelo</th>\n",
              "      <th>preco</th>\n",
              "      <th>vendido</th>\n",
              "      <th>idade_do_modelo</th>\n",
              "    </tr>\n",
              "  </thead>\n",
              "  <tbody>\n",
              "    <tr>\n",
              "      <th>0</th>\n",
              "      <td>0</td>\n",
              "      <td>21801</td>\n",
              "      <td>2000</td>\n",
              "      <td>30941.02</td>\n",
              "      <td>1</td>\n",
              "      <td>24</td>\n",
              "    </tr>\n",
              "    <tr>\n",
              "      <th>1</th>\n",
              "      <td>1</td>\n",
              "      <td>7843</td>\n",
              "      <td>1998</td>\n",
              "      <td>40557.96</td>\n",
              "      <td>1</td>\n",
              "      <td>26</td>\n",
              "    </tr>\n",
              "    <tr>\n",
              "      <th>2</th>\n",
              "      <td>2</td>\n",
              "      <td>7109</td>\n",
              "      <td>2006</td>\n",
              "      <td>89627.50</td>\n",
              "      <td>0</td>\n",
              "      <td>18</td>\n",
              "    </tr>\n",
              "    <tr>\n",
              "      <th>3</th>\n",
              "      <td>3</td>\n",
              "      <td>26823</td>\n",
              "      <td>2015</td>\n",
              "      <td>95276.14</td>\n",
              "      <td>0</td>\n",
              "      <td>9</td>\n",
              "    </tr>\n",
              "    <tr>\n",
              "      <th>4</th>\n",
              "      <td>4</td>\n",
              "      <td>7935</td>\n",
              "      <td>2014</td>\n",
              "      <td>117384.68</td>\n",
              "      <td>1</td>\n",
              "      <td>10</td>\n",
              "    </tr>\n",
              "  </tbody>\n",
              "</table>\n",
              "</div>"
            ],
            "text/plain": [
              "   Unnamed: 0  milhas_por_ano  ano_do_modelo      preco  vendido  \\\n",
              "0           0           21801           2000   30941.02        1   \n",
              "1           1            7843           1998   40557.96        1   \n",
              "2           2            7109           2006   89627.50        0   \n",
              "3           3           26823           2015   95276.14        0   \n",
              "4           4            7935           2014  117384.68        1   \n",
              "\n",
              "   idade_do_modelo  \n",
              "0               24  \n",
              "1               26  \n",
              "2               18  \n",
              "3                9  \n",
              "4               10  "
            ]
          },
          "execution_count": 5,
          "metadata": {},
          "output_type": "execute_result"
        }
      ],
      "source": [
        "from datetime import datetime\n",
        "\n",
        "ano_atual = datetime.today().year\n",
        "dados['idade_do_modelo'] = ano_atual - dados.ano_do_modelo\n",
        "dados.head()"
      ]
    },
    {
      "cell_type": "code",
      "execution_count": 6,
      "metadata": {
        "colab": {
          "base_uri": "https://localhost:8080/",
          "height": 198
        },
        "colab_type": "code",
        "id": "3wWWgxhcFbR9",
        "outputId": "b4c147dc-c2e5-4bfd-e78f-5a34f72770d6"
      },
      "outputs": [
        {
          "data": {
            "text/html": [
              "<div>\n",
              "<style scoped>\n",
              "    .dataframe tbody tr th:only-of-type {\n",
              "        vertical-align: middle;\n",
              "    }\n",
              "\n",
              "    .dataframe tbody tr th {\n",
              "        vertical-align: top;\n",
              "    }\n",
              "\n",
              "    .dataframe thead th {\n",
              "        text-align: right;\n",
              "    }\n",
              "</style>\n",
              "<table border=\"1\" class=\"dataframe\">\n",
              "  <thead>\n",
              "    <tr style=\"text-align: right;\">\n",
              "      <th></th>\n",
              "      <th>Unnamed: 0</th>\n",
              "      <th>milhas_por_ano</th>\n",
              "      <th>ano_do_modelo</th>\n",
              "      <th>preco</th>\n",
              "      <th>vendido</th>\n",
              "      <th>idade_do_modelo</th>\n",
              "      <th>km_por_ano</th>\n",
              "    </tr>\n",
              "  </thead>\n",
              "  <tbody>\n",
              "    <tr>\n",
              "      <th>0</th>\n",
              "      <td>0</td>\n",
              "      <td>21801</td>\n",
              "      <td>2000</td>\n",
              "      <td>30941.02</td>\n",
              "      <td>1</td>\n",
              "      <td>24</td>\n",
              "      <td>35085.22134</td>\n",
              "    </tr>\n",
              "    <tr>\n",
              "      <th>1</th>\n",
              "      <td>1</td>\n",
              "      <td>7843</td>\n",
              "      <td>1998</td>\n",
              "      <td>40557.96</td>\n",
              "      <td>1</td>\n",
              "      <td>26</td>\n",
              "      <td>12622.05362</td>\n",
              "    </tr>\n",
              "    <tr>\n",
              "      <th>2</th>\n",
              "      <td>2</td>\n",
              "      <td>7109</td>\n",
              "      <td>2006</td>\n",
              "      <td>89627.50</td>\n",
              "      <td>0</td>\n",
              "      <td>18</td>\n",
              "      <td>11440.79806</td>\n",
              "    </tr>\n",
              "    <tr>\n",
              "      <th>3</th>\n",
              "      <td>3</td>\n",
              "      <td>26823</td>\n",
              "      <td>2015</td>\n",
              "      <td>95276.14</td>\n",
              "      <td>0</td>\n",
              "      <td>9</td>\n",
              "      <td>43167.32682</td>\n",
              "    </tr>\n",
              "    <tr>\n",
              "      <th>4</th>\n",
              "      <td>4</td>\n",
              "      <td>7935</td>\n",
              "      <td>2014</td>\n",
              "      <td>117384.68</td>\n",
              "      <td>1</td>\n",
              "      <td>10</td>\n",
              "      <td>12770.11290</td>\n",
              "    </tr>\n",
              "  </tbody>\n",
              "</table>\n",
              "</div>"
            ],
            "text/plain": [
              "   Unnamed: 0  milhas_por_ano  ano_do_modelo      preco  vendido  \\\n",
              "0           0           21801           2000   30941.02        1   \n",
              "1           1            7843           1998   40557.96        1   \n",
              "2           2            7109           2006   89627.50        0   \n",
              "3           3           26823           2015   95276.14        0   \n",
              "4           4            7935           2014  117384.68        1   \n",
              "\n",
              "   idade_do_modelo   km_por_ano  \n",
              "0               24  35085.22134  \n",
              "1               26  12622.05362  \n",
              "2               18  11440.79806  \n",
              "3                9  43167.32682  \n",
              "4               10  12770.11290  "
            ]
          },
          "execution_count": 6,
          "metadata": {},
          "output_type": "execute_result"
        }
      ],
      "source": [
        "dados['km_por_ano'] = dados.milhas_por_ano * 1.60934\n",
        "dados.head()"
      ]
    },
    {
      "cell_type": "code",
      "execution_count": 7,
      "metadata": {
        "colab": {
          "base_uri": "https://localhost:8080/",
          "height": 198
        },
        "colab_type": "code",
        "id": "MfjQNKlyFo2S",
        "outputId": "7588f6a5-ff37-4996-91a5-d9ee4b5543d7"
      },
      "outputs": [
        {
          "data": {
            "text/html": [
              "<div>\n",
              "<style scoped>\n",
              "    .dataframe tbody tr th:only-of-type {\n",
              "        vertical-align: middle;\n",
              "    }\n",
              "\n",
              "    .dataframe tbody tr th {\n",
              "        vertical-align: top;\n",
              "    }\n",
              "\n",
              "    .dataframe thead th {\n",
              "        text-align: right;\n",
              "    }\n",
              "</style>\n",
              "<table border=\"1\" class=\"dataframe\">\n",
              "  <thead>\n",
              "    <tr style=\"text-align: right;\">\n",
              "      <th></th>\n",
              "      <th>preco</th>\n",
              "      <th>vendido</th>\n",
              "      <th>idade_do_modelo</th>\n",
              "      <th>km_por_ano</th>\n",
              "    </tr>\n",
              "  </thead>\n",
              "  <tbody>\n",
              "    <tr>\n",
              "      <th>0</th>\n",
              "      <td>30941.02</td>\n",
              "      <td>1</td>\n",
              "      <td>24</td>\n",
              "      <td>35085.22134</td>\n",
              "    </tr>\n",
              "    <tr>\n",
              "      <th>1</th>\n",
              "      <td>40557.96</td>\n",
              "      <td>1</td>\n",
              "      <td>26</td>\n",
              "      <td>12622.05362</td>\n",
              "    </tr>\n",
              "    <tr>\n",
              "      <th>2</th>\n",
              "      <td>89627.50</td>\n",
              "      <td>0</td>\n",
              "      <td>18</td>\n",
              "      <td>11440.79806</td>\n",
              "    </tr>\n",
              "    <tr>\n",
              "      <th>3</th>\n",
              "      <td>95276.14</td>\n",
              "      <td>0</td>\n",
              "      <td>9</td>\n",
              "      <td>43167.32682</td>\n",
              "    </tr>\n",
              "    <tr>\n",
              "      <th>4</th>\n",
              "      <td>117384.68</td>\n",
              "      <td>1</td>\n",
              "      <td>10</td>\n",
              "      <td>12770.11290</td>\n",
              "    </tr>\n",
              "  </tbody>\n",
              "</table>\n",
              "</div>"
            ],
            "text/plain": [
              "       preco  vendido  idade_do_modelo   km_por_ano\n",
              "0   30941.02        1               24  35085.22134\n",
              "1   40557.96        1               26  12622.05362\n",
              "2   89627.50        0               18  11440.79806\n",
              "3   95276.14        0                9  43167.32682\n",
              "4  117384.68        1               10  12770.11290"
            ]
          },
          "execution_count": 7,
          "metadata": {},
          "output_type": "execute_result"
        }
      ],
      "source": [
        "dados = dados.drop(columns = [\"Unnamed: 0\", \"milhas_por_ano\",\"ano_do_modelo\"], axis=1)\n",
        "dados.head()"
      ]
    },
    {
      "cell_type": "code",
      "execution_count": 8,
      "metadata": {
        "colab": {
          "base_uri": "https://localhost:8080/",
          "height": 52
        },
        "colab_type": "code",
        "id": "E3xebM4FF0Tc",
        "outputId": "7d48ae66-beb0-4884-cbfa-c81c9ce95eb1"
      },
      "outputs": [
        {
          "name": "stdout",
          "output_type": "stream",
          "text": [
            "Treinaremos com 7500 elementos e testaremos com 2500 elementos\n"
          ]
        },
        {
          "name": "stderr",
          "output_type": "stream",
          "text": [
            "c:\\Python311\\Lib\\site-packages\\sklearn\\svm\\_classes.py:32: FutureWarning: The default value of `dual` will change from `True` to `'auto'` in 1.5. Set the value of `dual` explicitly to suppress the warning.\n",
            "  warnings.warn(\n"
          ]
        },
        {
          "name": "stdout",
          "output_type": "stream",
          "text": [
            "A acurácia foi 46.88%\n"
          ]
        },
        {
          "name": "stderr",
          "output_type": "stream",
          "text": [
            "c:\\Python311\\Lib\\site-packages\\sklearn\\svm\\_base.py:1242: ConvergenceWarning: Liblinear failed to converge, increase the number of iterations.\n",
            "  warnings.warn(\n"
          ]
        }
      ],
      "source": [
        "import numpy as np\n",
        "from sklearn.model_selection import train_test_split\n",
        "from sklearn.svm import LinearSVC\n",
        "from sklearn.metrics import accuracy_score\n",
        "\n",
        "x = dados[[\"preco\", \"idade_do_modelo\",\"km_por_ano\"]]\n",
        "y = dados[\"vendido\"]\n",
        "\n",
        "SEED = 5\n",
        "np.random.seed(SEED)\n",
        "treino_x, teste_x, treino_y, teste_y = train_test_split(x, y, test_size = 0.25,\n",
        "                                                         stratify = y)\n",
        "print(\"Treinaremos com %d elementos e testaremos com %d elementos\" % (len(treino_x), len(teste_x)))\n",
        "\n",
        "modelo = LinearSVC()\n",
        "modelo.fit(treino_x, treino_y)\n",
        "previsoes = modelo.predict(teste_x)\n",
        "\n",
        "acuracia = accuracy_score(teste_y, previsoes) * 100\n",
        "print(\"A acurácia foi %.2f%%\" % acuracia)"
      ]
    },
    {
      "cell_type": "code",
      "execution_count": 9,
      "metadata": {
        "colab": {
          "base_uri": "https://localhost:8080/",
          "height": 35
        },
        "colab_type": "code",
        "id": "G2ZFWoPkGONL",
        "outputId": "f86fecd4-0528-420d-face-b3ab72af6a23"
      },
      "outputs": [
        {
          "name": "stdout",
          "output_type": "stream",
          "text": [
            "A acurácia do dummy stratified foi 58.00%\n"
          ]
        }
      ],
      "source": [
        "from sklearn.dummy import DummyClassifier\n",
        "\n",
        "dummy_stratified = DummyClassifier()\n",
        "dummy_stratified.fit(treino_x, treino_y)\n",
        "acuracia = dummy_stratified.score(teste_x, teste_y) * 100\n",
        "\n",
        "print(\"A acurácia do dummy stratified foi %.2f%%\" % acuracia)"
      ]
    },
    {
      "cell_type": "code",
      "execution_count": 10,
      "metadata": {
        "colab": {
          "base_uri": "https://localhost:8080/",
          "height": 35
        },
        "colab_type": "code",
        "id": "469ZKbHJIHL0",
        "outputId": "7348330f-4752-4e1e-8f27-2420acf2ad14"
      },
      "outputs": [
        {
          "name": "stdout",
          "output_type": "stream",
          "text": [
            "A acurácia do dummy mostfrequent foi 58.00%\n"
          ]
        }
      ],
      "source": [
        "from sklearn.dummy import DummyClassifier\n",
        "\n",
        "dummy_mostfrequent = DummyClassifier()\n",
        "dummy_mostfrequent.fit(treino_x, treino_y)\n",
        "acuracia = dummy_mostfrequent.score(teste_x, teste_y) * 100\n",
        "\n",
        "print(\"A acurácia do dummy mostfrequent foi %.2f%%\" % acuracia)"
      ]
    },
    {
      "cell_type": "code",
      "execution_count": 11,
      "metadata": {
        "colab": {
          "base_uri": "https://localhost:8080/",
          "height": 52
        },
        "colab_type": "code",
        "id": "S_5AfFerIsH_",
        "outputId": "569a686d-9b86-459f-d30d-5ce738bb6897"
      },
      "outputs": [
        {
          "name": "stdout",
          "output_type": "stream",
          "text": [
            "Treinaremos com 7500 elementos e testaremos com 2500 elementos\n",
            "A acurácia foi 77.48%\n"
          ]
        }
      ],
      "source": [
        "from sklearn.preprocessing import StandardScaler\n",
        "from sklearn.model_selection import train_test_split\n",
        "from sklearn.svm import SVC\n",
        "from sklearn.metrics import accuracy_score\n",
        "\n",
        "SEED = 5\n",
        "np.random.seed(SEED)\n",
        "raw_treino_x, raw_teste_x, treino_y, teste_y = train_test_split(x, y, test_size = 0.25,\n",
        "                                                         stratify = y)\n",
        "print(\"Treinaremos com %d elementos e testaremos com %d elementos\" % (len(treino_x), len(teste_x)))\n",
        "\n",
        "scaler = StandardScaler()\n",
        "scaler.fit(raw_treino_x)\n",
        "treino_x = scaler.transform(raw_treino_x)\n",
        "teste_x = scaler.transform(raw_teste_x)\n",
        "\n",
        "modelo = SVC()\n",
        "modelo.fit(treino_x, treino_y)\n",
        "previsoes = modelo.predict(teste_x)\n",
        "\n",
        "acuracia = accuracy_score(teste_y, previsoes) * 100\n",
        "print(\"A acurácia foi %.2f%%\" % acuracia)\n"
      ]
    },
    {
      "cell_type": "code",
      "execution_count": 12,
      "metadata": {
        "colab": {
          "base_uri": "https://localhost:8080/",
          "height": 52
        },
        "colab_type": "code",
        "id": "-1YsD-whJuGR",
        "outputId": "5e0c7f00-98ce-4b32-bbc6-908dde4cc2f8"
      },
      "outputs": [
        {
          "name": "stdout",
          "output_type": "stream",
          "text": [
            "Treinaremos com 7500 elementos e testaremos com 2500 elementos\n",
            "A acurácia foi 79.28%\n"
          ]
        }
      ],
      "source": [
        "from sklearn.preprocessing import StandardScaler\n",
        "from sklearn.model_selection import train_test_split\n",
        "from sklearn.tree import DecisionTreeClassifier\n",
        "from sklearn.metrics import accuracy_score\n",
        "\n",
        "SEED = 5\n",
        "np.random.seed(SEED)\n",
        "raw_treino_x, raw_teste_x, treino_y, teste_y = train_test_split(x, y, test_size = 0.25,\n",
        "                                                         stratify = y)\n",
        "print(\"Treinaremos com %d elementos e testaremos com %d elementos\" % (len(treino_x), len(teste_x)))\n",
        "\n",
        "modelo = DecisionTreeClassifier(max_depth=3)\n",
        "modelo.fit(raw_treino_x, treino_y)\n",
        "previsoes = modelo.predict(raw_teste_x)\n",
        "\n",
        "acuracia = accuracy_score(teste_y, previsoes) * 100\n",
        "print(\"A acurácia foi %.2f%%\" % acuracia)\n"
      ]
    },
    {
      "cell_type": "code",
      "execution_count": 13,
      "metadata": {
        "colab": {
          "base_uri": "https://localhost:8080/",
          "height": 619
        },
        "colab_type": "code",
        "id": "-8O83jbOLctO",
        "outputId": "8ddc6972-e0a7-40d3-adba-0877358ab355"
      },
      "outputs": [
        {
          "data": {
            "image/svg+xml": [
              "<?xml version=\"1.0\" encoding=\"UTF-8\" standalone=\"no\"?>\r\n",
              "<!DOCTYPE svg PUBLIC \"-//W3C//DTD SVG 1.1//EN\"\r\n",
              " \"http://www.w3.org/Graphics/SVG/1.1/DTD/svg11.dtd\">\r\n",
              "<!-- Generated by graphviz version 9.0.0 (20230911.1827)\r\n",
              " -->\r\n",
              "<!-- Title: Tree Pages: 1 -->\r\n",
              "<svg width=\"878pt\" height=\"462pt\"\r\n",
              " viewBox=\"0.00 0.00 878.00 461.50\" xmlns=\"http://www.w3.org/2000/svg\" xmlns:xlink=\"http://www.w3.org/1999/xlink\">\r\n",
              "<g id=\"graph0\" class=\"graph\" transform=\"scale(1 1) rotate(0) translate(4 457.5)\">\r\n",
              "<title>Tree</title>\r\n",
              "<polygon fill=\"white\" stroke=\"none\" points=\"-4,4 -4,-457.5 874,-457.5 874,4 -4,4\"/>\r\n",
              "<!-- 0 -->\r\n",
              "<g id=\"node1\" class=\"node\">\r\n",
              "<title>0</title>\r\n",
              "<path fill=\"#c8e4f8\" stroke=\"black\" d=\"M366.75,-453.5C366.75,-453.5 244.25,-453.5 244.25,-453.5 238.25,-453.5 232.25,-447.5 232.25,-441.5 232.25,-441.5 232.25,-375 232.25,-375 232.25,-369 238.25,-363 244.25,-363 244.25,-363 366.75,-363 366.75,-363 372.75,-363 378.75,-369 378.75,-375 378.75,-375 378.75,-441.5 378.75,-441.5 378.75,-447.5 372.75,-453.5 366.75,-453.5\"/>\r\n",
              "<text text-anchor=\"middle\" x=\"305.5\" y=\"-436.2\" font-family=\"Helvetica,sans-Serif\" font-size=\"14.00\">preco &lt;= 59999.074</text>\r\n",
              "<text text-anchor=\"middle\" x=\"305.5\" y=\"-419.7\" font-family=\"Helvetica,sans-Serif\" font-size=\"14.00\">gini = 0.487</text>\r\n",
              "<text text-anchor=\"middle\" x=\"305.5\" y=\"-403.2\" font-family=\"Helvetica,sans-Serif\" font-size=\"14.00\">samples = 7500</text>\r\n",
              "<text text-anchor=\"middle\" x=\"305.5\" y=\"-386.7\" font-family=\"Helvetica,sans-Serif\" font-size=\"14.00\">value = [3150, 4350]</text>\r\n",
              "<text text-anchor=\"middle\" x=\"305.5\" y=\"-370.2\" font-family=\"Helvetica,sans-Serif\" font-size=\"14.00\">class = sim</text>\r\n",
              "</g>\r\n",
              "<!-- 1 -->\r\n",
              "<g id=\"node2\" class=\"node\">\r\n",
              "<title>1</title>\r\n",
              "<path fill=\"#52aae8\" stroke=\"black\" d=\"M273.75,-327C273.75,-327 151.25,-327 151.25,-327 145.25,-327 139.25,-321 139.25,-315 139.25,-315 139.25,-248.5 139.25,-248.5 139.25,-242.5 145.25,-236.5 151.25,-236.5 151.25,-236.5 273.75,-236.5 273.75,-236.5 279.75,-236.5 285.75,-242.5 285.75,-248.5 285.75,-248.5 285.75,-315 285.75,-315 285.75,-321 279.75,-327 273.75,-327\"/>\r\n",
              "<text text-anchor=\"middle\" x=\"212.5\" y=\"-309.7\" font-family=\"Helvetica,sans-Serif\" font-size=\"14.00\">preco &lt;= 40070.154</text>\r\n",
              "<text text-anchor=\"middle\" x=\"212.5\" y=\"-293.2\" font-family=\"Helvetica,sans-Serif\" font-size=\"14.00\">gini = 0.202</text>\r\n",
              "<text text-anchor=\"middle\" x=\"212.5\" y=\"-276.7\" font-family=\"Helvetica,sans-Serif\" font-size=\"14.00\">samples = 3248</text>\r\n",
              "<text text-anchor=\"middle\" x=\"212.5\" y=\"-260.2\" font-family=\"Helvetica,sans-Serif\" font-size=\"14.00\">value = [370, 2878]</text>\r\n",
              "<text text-anchor=\"middle\" x=\"212.5\" y=\"-243.7\" font-family=\"Helvetica,sans-Serif\" font-size=\"14.00\">class = sim</text>\r\n",
              "</g>\r\n",
              "<!-- 0&#45;&gt;1 -->\r\n",
              "<g id=\"edge1\" class=\"edge\">\r\n",
              "<title>0&#45;&gt;1</title>\r\n",
              "<path fill=\"none\" stroke=\"black\" d=\"M272.19,-362.65C265.84,-354.16 259.14,-345.19 252.61,-336.45\"/>\r\n",
              "<polygon fill=\"black\" stroke=\"black\" points=\"255.59,-334.58 246.8,-328.67 249.98,-338.77 255.59,-334.58\"/>\r\n",
              "<text text-anchor=\"middle\" x=\"242.31\" y=\"-347.14\" font-family=\"Helvetica,sans-Serif\" font-size=\"14.00\">True</text>\r\n",
              "</g>\r\n",
              "<!-- 6 -->\r\n",
              "<g id=\"node7\" class=\"node\">\r\n",
              "<title>6</title>\r\n",
              "<path fill=\"#f3c4a2\" stroke=\"black\" d=\"M531.12,-327C531.12,-327 365.88,-327 365.88,-327 359.88,-327 353.88,-321 353.88,-315 353.88,-315 353.88,-248.5 353.88,-248.5 353.88,-242.5 359.88,-236.5 365.88,-236.5 365.88,-236.5 531.12,-236.5 531.12,-236.5 537.12,-236.5 543.12,-242.5 543.12,-248.5 543.12,-248.5 543.12,-315 543.12,-315 543.12,-321 537.12,-327 531.12,-327\"/>\r\n",
              "<text text-anchor=\"middle\" x=\"448.5\" y=\"-309.7\" font-family=\"Helvetica,sans-Serif\" font-size=\"14.00\">km_por_ano &lt;= 24112.741</text>\r\n",
              "<text text-anchor=\"middle\" x=\"448.5\" y=\"-293.2\" font-family=\"Helvetica,sans-Serif\" font-size=\"14.00\">gini = 0.453</text>\r\n",
              "<text text-anchor=\"middle\" x=\"448.5\" y=\"-276.7\" font-family=\"Helvetica,sans-Serif\" font-size=\"14.00\">samples = 4252</text>\r\n",
              "<text text-anchor=\"middle\" x=\"448.5\" y=\"-260.2\" font-family=\"Helvetica,sans-Serif\" font-size=\"14.00\">value = [2780, 1472]</text>\r\n",
              "<text text-anchor=\"middle\" x=\"448.5\" y=\"-243.7\" font-family=\"Helvetica,sans-Serif\" font-size=\"14.00\">class = não</text>\r\n",
              "</g>\r\n",
              "<!-- 0&#45;&gt;6 -->\r\n",
              "<g id=\"edge6\" class=\"edge\">\r\n",
              "<title>0&#45;&gt;6</title>\r\n",
              "<path fill=\"none\" stroke=\"black\" d=\"M356.72,-362.65C367.09,-353.63 378.08,-344.06 388.72,-334.8\"/>\r\n",
              "<polygon fill=\"black\" stroke=\"black\" points=\"390.77,-337.65 396.01,-328.45 386.17,-332.37 390.77,-337.65\"/>\r\n",
              "<text text-anchor=\"middle\" x=\"395.43\" y=\"-347.34\" font-family=\"Helvetica,sans-Serif\" font-size=\"14.00\">False</text>\r\n",
              "</g>\r\n",
              "<!-- 2 -->\r\n",
              "<g id=\"node3\" class=\"node\">\r\n",
              "<title>2</title>\r\n",
              "<path fill=\"#399de5\" stroke=\"black\" d=\"M109,-192.25C109,-192.25 12,-192.25 12,-192.25 6,-192.25 0,-186.25 0,-180.25 0,-180.25 0,-130.25 0,-130.25 0,-124.25 6,-118.25 12,-118.25 12,-118.25 109,-118.25 109,-118.25 115,-118.25 121,-124.25 121,-130.25 121,-130.25 121,-180.25 121,-180.25 121,-186.25 115,-192.25 109,-192.25\"/>\r\n",
              "<text text-anchor=\"middle\" x=\"60.5\" y=\"-174.95\" font-family=\"Helvetica,sans-Serif\" font-size=\"14.00\">gini = 0.0</text>\r\n",
              "<text text-anchor=\"middle\" x=\"60.5\" y=\"-158.45\" font-family=\"Helvetica,sans-Serif\" font-size=\"14.00\">samples = 1441</text>\r\n",
              "<text text-anchor=\"middle\" x=\"60.5\" y=\"-141.95\" font-family=\"Helvetica,sans-Serif\" font-size=\"14.00\">value = [0, 1441]</text>\r\n",
              "<text text-anchor=\"middle\" x=\"60.5\" y=\"-125.45\" font-family=\"Helvetica,sans-Serif\" font-size=\"14.00\">class = sim</text>\r\n",
              "</g>\r\n",
              "<!-- 1&#45;&gt;2 -->\r\n",
              "<g id=\"edge2\" class=\"edge\">\r\n",
              "<title>1&#45;&gt;2</title>\r\n",
              "<path fill=\"none\" stroke=\"black\" d=\"M158.05,-236.15C143.52,-224.25 127.84,-211.41 113.4,-199.58\"/>\r\n",
              "<polygon fill=\"black\" stroke=\"black\" points=\"115.71,-196.94 105.75,-193.31 111.27,-202.36 115.71,-196.94\"/>\r\n",
              "</g>\r\n",
              "<!-- 3 -->\r\n",
              "<g id=\"node4\" class=\"node\">\r\n",
              "<title>3</title>\r\n",
              "<path fill=\"#6cb6ec\" stroke=\"black\" d=\"M273.75,-200.5C273.75,-200.5 151.25,-200.5 151.25,-200.5 145.25,-200.5 139.25,-194.5 139.25,-188.5 139.25,-188.5 139.25,-122 139.25,-122 139.25,-116 145.25,-110 151.25,-110 151.25,-110 273.75,-110 273.75,-110 279.75,-110 285.75,-116 285.75,-122 285.75,-122 285.75,-188.5 285.75,-188.5 285.75,-194.5 279.75,-200.5 273.75,-200.5\"/>\r\n",
              "<text text-anchor=\"middle\" x=\"212.5\" y=\"-183.2\" font-family=\"Helvetica,sans-Serif\" font-size=\"14.00\">preco &lt;= 40723.646</text>\r\n",
              "<text text-anchor=\"middle\" x=\"212.5\" y=\"-166.7\" font-family=\"Helvetica,sans-Serif\" font-size=\"14.00\">gini = 0.326</text>\r\n",
              "<text text-anchor=\"middle\" x=\"212.5\" y=\"-150.2\" font-family=\"Helvetica,sans-Serif\" font-size=\"14.00\">samples = 1807</text>\r\n",
              "<text text-anchor=\"middle\" x=\"212.5\" y=\"-133.7\" font-family=\"Helvetica,sans-Serif\" font-size=\"14.00\">value = [370, 1437]</text>\r\n",
              "<text text-anchor=\"middle\" x=\"212.5\" y=\"-117.2\" font-family=\"Helvetica,sans-Serif\" font-size=\"14.00\">class = sim</text>\r\n",
              "</g>\r\n",
              "<!-- 1&#45;&gt;3 -->\r\n",
              "<g id=\"edge3\" class=\"edge\">\r\n",
              "<title>1&#45;&gt;3</title>\r\n",
              "<path fill=\"none\" stroke=\"black\" d=\"M212.5,-236.15C212.5,-228.47 212.5,-220.39 212.5,-212.44\"/>\r\n",
              "<polygon fill=\"black\" stroke=\"black\" points=\"216,-212.47 212.5,-202.47 209,-212.47 216,-212.47\"/>\r\n",
              "</g>\r\n",
              "<!-- 4 -->\r\n",
              "<g id=\"node5\" class=\"node\">\r\n",
              "<title>4</title>\r\n",
              "<path fill=\"#9acdf2\" stroke=\"black\" d=\"M113.88,-74C113.88,-74 25.12,-74 25.12,-74 19.12,-74 13.12,-68 13.12,-62 13.12,-62 13.12,-12 13.12,-12 13.12,-6 19.12,0 25.12,0 25.12,0 113.88,0 113.88,0 119.88,0 125.88,-6 125.88,-12 125.88,-12 125.88,-62 125.88,-62 125.88,-68 119.88,-74 113.88,-74\"/>\r\n",
              "<text text-anchor=\"middle\" x=\"69.5\" y=\"-56.7\" font-family=\"Helvetica,sans-Serif\" font-size=\"14.00\">gini = 0.441</text>\r\n",
              "<text text-anchor=\"middle\" x=\"69.5\" y=\"-40.2\" font-family=\"Helvetica,sans-Serif\" font-size=\"14.00\">samples = 61</text>\r\n",
              "<text text-anchor=\"middle\" x=\"69.5\" y=\"-23.7\" font-family=\"Helvetica,sans-Serif\" font-size=\"14.00\">value = [20, 41]</text>\r\n",
              "<text text-anchor=\"middle\" x=\"69.5\" y=\"-7.2\" font-family=\"Helvetica,sans-Serif\" font-size=\"14.00\">class = sim</text>\r\n",
              "</g>\r\n",
              "<!-- 3&#45;&gt;4 -->\r\n",
              "<g id=\"edge4\" class=\"edge\">\r\n",
              "<title>3&#45;&gt;4</title>\r\n",
              "<path fill=\"none\" stroke=\"black\" d=\"M157.62,-109.64C146.31,-100.44 134.41,-90.77 123.14,-81.61\"/>\r\n",
              "<polygon fill=\"black\" stroke=\"black\" points=\"125.41,-78.94 115.44,-75.35 120.99,-84.37 125.41,-78.94\"/>\r\n",
              "</g>\r\n",
              "<!-- 5 -->\r\n",
              "<g id=\"node6\" class=\"node\">\r\n",
              "<title>5</title>\r\n",
              "<path fill=\"#6bb6ec\" stroke=\"black\" d=\"M269.25,-74C269.25,-74 155.75,-74 155.75,-74 149.75,-74 143.75,-68 143.75,-62 143.75,-62 143.75,-12 143.75,-12 143.75,-6 149.75,0 155.75,0 155.75,0 269.25,0 269.25,0 275.25,0 281.25,-6 281.25,-12 281.25,-12 281.25,-62 281.25,-62 281.25,-68 275.25,-74 269.25,-74\"/>\r\n",
              "<text text-anchor=\"middle\" x=\"212.5\" y=\"-56.7\" font-family=\"Helvetica,sans-Serif\" font-size=\"14.00\">gini = 0.321</text>\r\n",
              "<text text-anchor=\"middle\" x=\"212.5\" y=\"-40.2\" font-family=\"Helvetica,sans-Serif\" font-size=\"14.00\">samples = 1746</text>\r\n",
              "<text text-anchor=\"middle\" x=\"212.5\" y=\"-23.7\" font-family=\"Helvetica,sans-Serif\" font-size=\"14.00\">value = [350, 1396]</text>\r\n",
              "<text text-anchor=\"middle\" x=\"212.5\" y=\"-7.2\" font-family=\"Helvetica,sans-Serif\" font-size=\"14.00\">class = sim</text>\r\n",
              "</g>\r\n",
              "<!-- 3&#45;&gt;5 -->\r\n",
              "<g id=\"edge5\" class=\"edge\">\r\n",
              "<title>3&#45;&gt;5</title>\r\n",
              "<path fill=\"none\" stroke=\"black\" d=\"M212.5,-109.64C212.5,-101.81 212.5,-93.63 212.5,-85.72\"/>\r\n",
              "<polygon fill=\"black\" stroke=\"black\" points=\"216,-85.91 212.5,-75.91 209,-85.91 216,-85.91\"/>\r\n",
              "</g>\r\n",
              "<!-- 7 -->\r\n",
              "<g id=\"node8\" class=\"node\">\r\n",
              "<title>7</title>\r\n",
              "<path fill=\"#fcf0e7\" stroke=\"black\" d=\"M509.38,-200.5C509.38,-200.5 387.62,-200.5 387.62,-200.5 381.62,-200.5 375.62,-194.5 375.62,-188.5 375.62,-188.5 375.62,-122 375.62,-122 375.62,-116 381.62,-110 387.62,-110 387.62,-110 509.38,-110 509.38,-110 515.38,-110 521.38,-116 521.38,-122 521.38,-122 521.38,-188.5 521.38,-188.5 521.38,-194.5 515.38,-200.5 509.38,-200.5\"/>\r\n",
              "<text text-anchor=\"middle\" x=\"448.5\" y=\"-183.2\" font-family=\"Helvetica,sans-Serif\" font-size=\"14.00\">preco &lt;= 99974.41</text>\r\n",
              "<text text-anchor=\"middle\" x=\"448.5\" y=\"-166.7\" font-family=\"Helvetica,sans-Serif\" font-size=\"14.00\">gini = 0.498</text>\r\n",
              "<text text-anchor=\"middle\" x=\"448.5\" y=\"-150.2\" font-family=\"Helvetica,sans-Serif\" font-size=\"14.00\">samples = 2649</text>\r\n",
              "<text text-anchor=\"middle\" x=\"448.5\" y=\"-133.7\" font-family=\"Helvetica,sans-Serif\" font-size=\"14.00\">value = [1409, 1240]</text>\r\n",
              "<text text-anchor=\"middle\" x=\"448.5\" y=\"-117.2\" font-family=\"Helvetica,sans-Serif\" font-size=\"14.00\">class = não</text>\r\n",
              "</g>\r\n",
              "<!-- 6&#45;&gt;7 -->\r\n",
              "<g id=\"edge7\" class=\"edge\">\r\n",
              "<title>6&#45;&gt;7</title>\r\n",
              "<path fill=\"none\" stroke=\"black\" d=\"M448.5,-236.15C448.5,-228.47 448.5,-220.39 448.5,-212.44\"/>\r\n",
              "<polygon fill=\"black\" stroke=\"black\" points=\"452,-212.47 448.5,-202.47 445,-212.47 452,-212.47\"/>\r\n",
              "</g>\r\n",
              "<!-- 10 -->\r\n",
              "<g id=\"node11\" class=\"node\">\r\n",
              "<title>10</title>\r\n",
              "<path fill=\"#e9965b\" stroke=\"black\" d=\"M731.88,-200.5C731.88,-200.5 601.12,-200.5 601.12,-200.5 595.12,-200.5 589.12,-194.5 589.12,-188.5 589.12,-188.5 589.12,-122 589.12,-122 589.12,-116 595.12,-110 601.12,-110 601.12,-110 731.88,-110 731.88,-110 737.88,-110 743.88,-116 743.88,-122 743.88,-122 743.88,-188.5 743.88,-188.5 743.88,-194.5 737.88,-200.5 731.88,-200.5\"/>\r\n",
              "<text text-anchor=\"middle\" x=\"666.5\" y=\"-183.2\" font-family=\"Helvetica,sans-Serif\" font-size=\"14.00\">preco &lt;= 100076.957</text>\r\n",
              "<text text-anchor=\"middle\" x=\"666.5\" y=\"-166.7\" font-family=\"Helvetica,sans-Serif\" font-size=\"14.00\">gini = 0.248</text>\r\n",
              "<text text-anchor=\"middle\" x=\"666.5\" y=\"-150.2\" font-family=\"Helvetica,sans-Serif\" font-size=\"14.00\">samples = 1603</text>\r\n",
              "<text text-anchor=\"middle\" x=\"666.5\" y=\"-133.7\" font-family=\"Helvetica,sans-Serif\" font-size=\"14.00\">value = [1371, 232]</text>\r\n",
              "<text text-anchor=\"middle\" x=\"666.5\" y=\"-117.2\" font-family=\"Helvetica,sans-Serif\" font-size=\"14.00\">class = não</text>\r\n",
              "</g>\r\n",
              "<!-- 6&#45;&gt;10 -->\r\n",
              "<g id=\"edge10\" class=\"edge\">\r\n",
              "<title>6&#45;&gt;10</title>\r\n",
              "<path fill=\"none\" stroke=\"black\" d=\"M526.59,-236.15C543.7,-226.38 561.92,-215.98 579.36,-206.02\"/>\r\n",
              "<polygon fill=\"black\" stroke=\"black\" points=\"580.7,-209.28 587.64,-201.28 577.22,-203.2 580.7,-209.28\"/>\r\n",
              "</g>\r\n",
              "<!-- 8 -->\r\n",
              "<g id=\"node9\" class=\"node\">\r\n",
              "<title>8</title>\r\n",
              "<path fill=\"#f9e0cf\" stroke=\"black\" d=\"M425.25,-74C425.25,-74 311.75,-74 311.75,-74 305.75,-74 299.75,-68 299.75,-62 299.75,-62 299.75,-12 299.75,-12 299.75,-6 305.75,0 311.75,0 311.75,0 425.25,0 425.25,0 431.25,0 437.25,-6 437.25,-12 437.25,-12 437.25,-62 437.25,-62 437.25,-68 431.25,-74 425.25,-74\"/>\r\n",
              "<text text-anchor=\"middle\" x=\"368.5\" y=\"-56.7\" font-family=\"Helvetica,sans-Serif\" font-size=\"14.00\">gini = 0.49</text>\r\n",
              "<text text-anchor=\"middle\" x=\"368.5\" y=\"-40.2\" font-family=\"Helvetica,sans-Serif\" font-size=\"14.00\">samples = 2223</text>\r\n",
              "<text text-anchor=\"middle\" x=\"368.5\" y=\"-23.7\" font-family=\"Helvetica,sans-Serif\" font-size=\"14.00\">value = [1266, 957]</text>\r\n",
              "<text text-anchor=\"middle\" x=\"368.5\" y=\"-7.2\" font-family=\"Helvetica,sans-Serif\" font-size=\"14.00\">class = não</text>\r\n",
              "</g>\r\n",
              "<!-- 7&#45;&gt;8 -->\r\n",
              "<g id=\"edge8\" class=\"edge\">\r\n",
              "<title>7&#45;&gt;8</title>\r\n",
              "<path fill=\"none\" stroke=\"black\" d=\"M417.8,-109.64C411.97,-101.17 405.87,-92.3 400.02,-83.8\"/>\r\n",
              "<polygon fill=\"black\" stroke=\"black\" points=\"402.96,-81.89 394.4,-75.64 397.19,-85.86 402.96,-81.89\"/>\r\n",
              "</g>\r\n",
              "<!-- 9 -->\r\n",
              "<g id=\"node10\" class=\"node\">\r\n",
              "<title>9</title>\r\n",
              "<path fill=\"#9dcff2\" stroke=\"black\" d=\"M572.12,-74C572.12,-74 466.88,-74 466.88,-74 460.88,-74 454.88,-68 454.88,-62 454.88,-62 454.88,-12 454.88,-12 454.88,-6 460.88,0 466.88,0 466.88,0 572.12,0 572.12,0 578.12,0 584.12,-6 584.12,-12 584.12,-12 584.12,-62 584.12,-62 584.12,-68 578.12,-74 572.12,-74\"/>\r\n",
              "<text text-anchor=\"middle\" x=\"519.5\" y=\"-56.7\" font-family=\"Helvetica,sans-Serif\" font-size=\"14.00\">gini = 0.446</text>\r\n",
              "<text text-anchor=\"middle\" x=\"519.5\" y=\"-40.2\" font-family=\"Helvetica,sans-Serif\" font-size=\"14.00\">samples = 426</text>\r\n",
              "<text text-anchor=\"middle\" x=\"519.5\" y=\"-23.7\" font-family=\"Helvetica,sans-Serif\" font-size=\"14.00\">value = [143, 283]</text>\r\n",
              "<text text-anchor=\"middle\" x=\"519.5\" y=\"-7.2\" font-family=\"Helvetica,sans-Serif\" font-size=\"14.00\">class = sim</text>\r\n",
              "</g>\r\n",
              "<!-- 7&#45;&gt;9 -->\r\n",
              "<g id=\"edge9\" class=\"edge\">\r\n",
              "<title>7&#45;&gt;9</title>\r\n",
              "<path fill=\"none\" stroke=\"black\" d=\"M475.75,-109.64C480.86,-101.26 486.22,-92.49 491.36,-84.07\"/>\r\n",
              "<polygon fill=\"black\" stroke=\"black\" points=\"494.26,-86.04 496.48,-75.69 488.28,-82.4 494.26,-86.04\"/>\r\n",
              "</g>\r\n",
              "<!-- 11 -->\r\n",
              "<g id=\"node12\" class=\"node\">\r\n",
              "<title>11</title>\r\n",
              "<path fill=\"#e68742\" stroke=\"black\" d=\"M719.12,-74C719.12,-74 613.88,-74 613.88,-74 607.88,-74 601.88,-68 601.88,-62 601.88,-62 601.88,-12 601.88,-12 601.88,-6 607.88,0 613.88,0 613.88,0 719.12,0 719.12,0 725.12,0 731.12,-6 731.12,-12 731.12,-12 731.12,-62 731.12,-62 731.12,-68 725.12,-74 719.12,-74\"/>\r\n",
              "<text text-anchor=\"middle\" x=\"666.5\" y=\"-56.7\" font-family=\"Helvetica,sans-Serif\" font-size=\"14.00\">gini = 0.086</text>\r\n",
              "<text text-anchor=\"middle\" x=\"666.5\" y=\"-40.2\" font-family=\"Helvetica,sans-Serif\" font-size=\"14.00\">samples = 1356</text>\r\n",
              "<text text-anchor=\"middle\" x=\"666.5\" y=\"-23.7\" font-family=\"Helvetica,sans-Serif\" font-size=\"14.00\">value = [1295, 61]</text>\r\n",
              "<text text-anchor=\"middle\" x=\"666.5\" y=\"-7.2\" font-family=\"Helvetica,sans-Serif\" font-size=\"14.00\">class = não</text>\r\n",
              "</g>\r\n",
              "<!-- 10&#45;&gt;11 -->\r\n",
              "<g id=\"edge11\" class=\"edge\">\r\n",
              "<title>10&#45;&gt;11</title>\r\n",
              "<path fill=\"none\" stroke=\"black\" d=\"M666.5,-109.64C666.5,-101.81 666.5,-93.63 666.5,-85.72\"/>\r\n",
              "<polygon fill=\"black\" stroke=\"black\" points=\"670,-85.91 666.5,-75.91 663,-85.91 670,-85.91\"/>\r\n",
              "</g>\r\n",
              "<!-- 12 -->\r\n",
              "<g id=\"node13\" class=\"node\">\r\n",
              "<title>12</title>\r\n",
              "<path fill=\"#91c9f1\" stroke=\"black\" d=\"M858,-74C858,-74 761,-74 761,-74 755,-74 749,-68 749,-62 749,-62 749,-12 749,-12 749,-6 755,0 761,0 761,0 858,0 858,0 864,0 870,-6 870,-12 870,-12 870,-62 870,-62 870,-68 864,-74 858,-74\"/>\r\n",
              "<text text-anchor=\"middle\" x=\"809.5\" y=\"-56.7\" font-family=\"Helvetica,sans-Serif\" font-size=\"14.00\">gini = 0.426</text>\r\n",
              "<text text-anchor=\"middle\" x=\"809.5\" y=\"-40.2\" font-family=\"Helvetica,sans-Serif\" font-size=\"14.00\">samples = 247</text>\r\n",
              "<text text-anchor=\"middle\" x=\"809.5\" y=\"-23.7\" font-family=\"Helvetica,sans-Serif\" font-size=\"14.00\">value = [76, 171]</text>\r\n",
              "<text text-anchor=\"middle\" x=\"809.5\" y=\"-7.2\" font-family=\"Helvetica,sans-Serif\" font-size=\"14.00\">class = sim</text>\r\n",
              "</g>\r\n",
              "<!-- 10&#45;&gt;12 -->\r\n",
              "<g id=\"edge12\" class=\"edge\">\r\n",
              "<title>10&#45;&gt;12</title>\r\n",
              "<path fill=\"none\" stroke=\"black\" d=\"M721.38,-109.64C732.69,-100.44 744.59,-90.77 755.86,-81.61\"/>\r\n",
              "<polygon fill=\"black\" stroke=\"black\" points=\"758.01,-84.37 763.56,-75.35 753.59,-78.94 758.01,-84.37\"/>\r\n",
              "</g>\r\n",
              "</g>\r\n",
              "</svg>\r\n"
            ],
            "text/plain": [
              "<graphviz.files.Source at 0x259ff8d7a10>"
            ]
          },
          "execution_count": 13,
          "metadata": {},
          "output_type": "execute_result"
        }
      ],
      "source": [
        "from sklearn.tree import export_graphviz\n",
        "import graphviz\n",
        "\n",
        "features = x.columns\n",
        "dot_data = export_graphviz(modelo, out_file=None,\n",
        "                           filled = True, rounded = True,\n",
        "                           feature_names = features,\n",
        "                          class_names = [\"não\", \"sim\"])\n",
        "grafico = graphviz.Source(dot_data)\n",
        "grafico"
      ]
    },
    {
      "cell_type": "code",
      "execution_count": null,
      "metadata": {
        "colab": {},
        "colab_type": "code",
        "id": "TLIr9EPALvM4"
      },
      "outputs": [],
      "source": []
    }
  ],
  "metadata": {
    "colab": {
      "collapsed_sections": [],
      "name": "Introdução a Machine Learning - 4.ipynb",
      "provenance": [],
      "version": "0.3.2"
    },
    "kernelspec": {
      "display_name": "Python 3",
      "name": "python3"
    },
    "language_info": {
      "codemirror_mode": {
        "name": "ipython",
        "version": 3
      },
      "file_extension": ".py",
      "mimetype": "text/x-python",
      "name": "python",
      "nbconvert_exporter": "python",
      "pygments_lexer": "ipython3",
      "version": "3.11.5"
    }
  },
  "nbformat": 4,
  "nbformat_minor": 0
}
